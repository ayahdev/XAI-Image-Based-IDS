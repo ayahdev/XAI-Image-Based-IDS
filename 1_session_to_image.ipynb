{
 "cells": [
  {
   "cell_type": "markdown",
   "id": "8b375e61",
   "metadata": {},
   "source": [
    "This code references: https://github.com/davidyslu/USTC-TK2016/blob/master/3_Session2Png.py"
   ]
  },
  {
   "cell_type": "markdown",
   "id": "d1d7f8a9",
   "metadata": {},
   "source": [
    "Importing Libraries"
   ]
  },
  {
   "cell_type": "code",
   "execution_count": 3,
   "id": "9f178e69",
   "metadata": {},
   "outputs": [],
   "source": [
    "import os\n",
    "from array import *\n",
    "from scapy.all import rdpcap\n",
    "import json\n",
    "import numpy\n",
    "from PIL import Image\n",
    "import binascii"
   ]
  },
  {
   "cell_type": "markdown",
   "id": "f2594ad4",
   "metadata": {},
   "source": [
    "Matrix from Pcap Function"
   ]
  },
  {
   "cell_type": "code",
   "execution_count": null,
   "id": "3bf57ea9",
   "metadata": {},
   "outputs": [],
   "source": [
    "def get_matrix_from_pcap_packets(filename, width, ethernet_version):\n",
    "    packets = rdpcap(filename)\n",
    "    \n",
    "    hexst = b''\n",
    "    \n",
    "    if ethernet_version[1]:\n",
    "        zeros = b'0'*28\n",
    "\n",
    "    meta_data = []\n",
    "    \n",
    "    for i, packet in enumerate(packets):\n",
    "        hex_content = binascii.hexlify(bytes(packet))\n",
    "        \n",
    "        '''No Empty Packets'''\n",
    "        if len(hex_content) > len(b'ffffffffffff70cf49a5c0219000'):\n",
    "            \n",
    "            if ethernet_version[0]:\n",
    "                meta_data.append(len(hexst) // 2)\n",
    "                hexst = hexst + hex_content\n",
    "                \n",
    "            elif ethernet_version[1]:\n",
    "                hex_content = hex_content[28:]\n",
    "                hex_content = zeros + hex_content\n",
    "                meta_data.append(len(hexst) // 2)\n",
    "                hexst = hexst + hex_content\n",
    "            \n",
    "            elif ethernet_version[2]:\n",
    "                hex_content = hex_content[28:]\n",
    "                meta_data.append(len(hexst) // 2)\n",
    "                hexst = hexst + hex_content\n",
    "            \n",
    "    fh = numpy.array([int(hexst[i:i+2], 16) for i in range(0, len(hexst), 2)])\n",
    "    max_dim = (width, width)\n",
    "    padding = (max_dim * max_dim) - len(fh)\n",
    "    \n",
    "    if padding > 0:\n",
    "        fh = numpy.append(fh, numpy.zeros(padding, dtype=numpy.uint8))\n",
    "        \n",
    "    fh = numpy.reshape(fh, (width, width))\n",
    "    fh = numpy.reshape(fh, (-1, width))\n",
    "    fh = numpy.uint8(fh)\n",
    "    \n",
    "    return fh, meta_data"
   ]
  },
  {
   "cell_type": "markdown",
   "id": "bb4a82ab",
   "metadata": {},
   "source": [
    "Converting Pcap Sessions to Images"
   ]
  },
  {
   "cell_type": "code",
   "execution_count": null,
   "id": "ddd2fd9e",
   "metadata": {},
   "outputs": [],
   "source": [
    "pcaps_path = \"path/to/pcapfiles/directory/\"\n",
    "metadata_path = \"path/to/store/generated/metadata/\"\n",
    "images_path = \"path/to/store/generated/images/\"\n",
    "\n",
    "pcaps_names = os.listdir(pcaps_path)\n",
    "\n",
    "count = 0\n",
    "\n",
    "image_size = 32\n",
    "\n",
    "'''     [ keep_ethernet, replace_ethernet_with_0s, remove_ethernet]      '''\n",
    "ethernet_version = [True, False, False]\n",
    "\n",
    "for file in pcaps_names:\n",
    "    count += 1\n",
    "    print(str(count))\n",
    "    \n",
    "    file_name = file.replace(\".pcap\", \"\")\n",
    "    \n",
    "    fh, metadata = get_matrix_from_pcap_packets(pcaps_path+file, image_size, ethernet_version)\n",
    "    \n",
    "    image = Image.fromarray(fh)\n",
    "    print(f\"{file_name}.png\")\n",
    "    \n",
    "    with open(metadata_path+file_name+\".json\", \"w\") as md_file:\n",
    "        json.dump(metadata, md_file)\n",
    "    \n",
    "    image.save(f\"{images_path}{file_name}.png\")\n",
    "    "
   ]
  }
 ],
 "metadata": {
  "kernelspec": {
   "display_name": "Python 3",
   "language": "python",
   "name": "python3"
  },
  "language_info": {
   "codemirror_mode": {
    "name": "ipython",
    "version": 3
   },
   "file_extension": ".py",
   "mimetype": "text/x-python",
   "name": "python",
   "nbconvert_exporter": "python",
   "pygments_lexer": "ipython3",
   "version": "3.11.9"
  }
 },
 "nbformat": 4,
 "nbformat_minor": 5
}
