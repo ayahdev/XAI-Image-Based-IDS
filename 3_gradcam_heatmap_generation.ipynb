{
 "cells": [
  {
   "cell_type": "markdown",
   "id": "0f521b9c",
   "metadata": {},
   "source": [
    "Importing Libraries"
   ]
  },
  {
   "cell_type": "code",
   "execution_count": null,
   "id": "e37a434b",
   "metadata": {},
   "outputs": [],
   "source": [
    "from tf_explain.core.grad_cam import GradCAM\n",
    "from tensorflow.keras.models import load_model\n",
    "import matplotlib.pyplot as plt\n",
    "from matplotlib import cm\n",
    "import cv2\n",
    "import tensorflow as tf\n",
    "from PIL import Image\n",
    "import numpy as np\n",
    "import os\n",
    "import glob"
   ]
  },
  {
   "cell_type": "markdown",
   "id": "6bd6fb18",
   "metadata": {},
   "source": [
    "Loading Model and Setting Paths"
   ]
  },
  {
   "cell_type": "code",
   "execution_count": null,
   "id": "070a0de9",
   "metadata": {},
   "outputs": [],
   "source": [
    "model = load_model(\"path/to/trained/model/\")\n",
    "images_directory_path = \"path/to/greyscale/session/images/\"\n",
    "heatmaps_directory_path = \"path/to/directory/for/generated/heatmaps/\"\n",
    "\n",
    "for layer in reversed(model.layers):\n",
    "    if 'conv' in layer.name:\n",
    "        last_conv_layer_name = layer.name\n",
    "        \n",
    "session_images = os.listdir(images_directory_path)\n",
    "image_size = (32, 32)\n",
    "count = 0\n",
    "\n",
    "''' True if Binary, and False if Multi-Class Classification'''\n",
    "binary_classification = True"
   ]
  },
  {
   "cell_type": "markdown",
   "id": "d5263b5e",
   "metadata": {},
   "source": [
    "Generating Heatmaps"
   ]
  },
  {
   "cell_type": "code",
   "execution_count": null,
   "id": "65cf100e",
   "metadata": {},
   "outputs": [],
   "source": [
    "for image_full_name in session_images:\n",
    "    name = str(image_full_name).split('.')[0]\n",
    "    try:\n",
    "        image = Image.open(images_directory_path+image_full_name)\n",
    "        image = image.resize(image_size)\n",
    "        input_image = np.array(image) / 255.0\n",
    "        input_image = np.expand_dims(input_image, axis=0)\n",
    "    except Exception as e:\n",
    "        print('Error occurred while loading the image:', str(e))\n",
    "        exit(1)\n",
    "        \n",
    "    prediction = model.predict(input_image)\n",
    "    \n",
    "    explainer = GradCAM()\n",
    "    \n",
    "    if binary_classification:\n",
    "        if prediction >= 0.5:\n",
    "            prediction = 1\n",
    "        else:\n",
    "            prediction = 0\n",
    "            \n",
    "        heatmap = explainer.explain(validation_data = (input_image, None), model=model, class_index = 0, layer_name = last_conv_layer_name)\n",
    "        \n",
    "    else:\n",
    "        prediction = np.argmax(prediction, axis=1)\n",
    "\n",
    "        heatmap = explainer.explain(validation_data = (input_image, None), class_index = prediction[0], model=model, layer_name = last_conv_layer_name)\n",
    "        \n",
    "\n",
    "    plt.imshow(heatmap)\n",
    "    plt.axis('off')\n",
    "    plt.savefig(f\"{heatmaps_directory_path}heatmap_{name}_{prediction}.png\", bbox_inches = 'tight', pad_inches = 0)\n",
    "    \n",
    "    count += 1\n",
    "    print(count)"
   ]
  }
 ],
 "metadata": {
  "kernelspec": {
   "display_name": "Python 3",
   "language": "python",
   "name": "python3"
  },
  "language_info": {
   "codemirror_mode": {
    "name": "ipython",
    "version": 3
   },
   "file_extension": ".py",
   "mimetype": "text/x-python",
   "name": "python",
   "nbconvert_exporter": "python",
   "pygments_lexer": "ipython3",
   "version": "3.11.9"
  }
 },
 "nbformat": 4,
 "nbformat_minor": 5
}
